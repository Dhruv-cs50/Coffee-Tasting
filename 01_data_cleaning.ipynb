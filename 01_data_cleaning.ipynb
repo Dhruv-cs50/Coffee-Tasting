{
 "cells": [
  {
   "cell_type": "code",
   "execution_count": 1,
   "id": "16dc6a58",
   "metadata": {},
   "outputs": [
    {
     "name": "stdout",
     "output_type": "stream",
     "text": [
      "gender             0.063281\n",
      "D_pref             0.002659\n",
      "A_pref             0.001861\n",
      "B_pref             0.001861\n",
      "C_pref             0.001861\n",
      "self_pref_roast    0.000798\n",
      "id                 0.000000\n",
      "age_group          0.000000\n",
      "fav_sample         0.000000\n",
      "dtype: float64\n"
     ]
    },
    {
     "ename": "KeyError",
     "evalue": "\"None of [Index(['Submission ID', 'What is your age?', 'Gender',\\n       'What roast level of coffee do you prefer?',\\n       'Coffee A - Personal Preference', 'Coffee B - Personal Preference',\\n       'Coffee C - Personal Preference', 'Coffee D - Personal Preference',\\n       'Lastly, what was your favorite overall coffee?Why did you like that coffee? (please be specific)'],\\n      dtype='object')] are in the [columns]\"",
     "output_type": "error",
     "traceback": [
      "\u001b[0;31m---------------------------------------------------------------------------\u001b[0m",
      "\u001b[0;31mKeyError\u001b[0m                                  Traceback (most recent call last)",
      "Cell \u001b[0;32mIn[1], line 23\u001b[0m\n\u001b[1;32m     10\u001b[0m \u001b[38;5;66;03m# 3. Select only the core columns we care about:\u001b[39;00m\n\u001b[1;32m     11\u001b[0m keep_cols \u001b[38;5;241m=\u001b[39m [\n\u001b[1;32m     12\u001b[0m     \u001b[38;5;124m'\u001b[39m\u001b[38;5;124mSubmission ID\u001b[39m\u001b[38;5;124m'\u001b[39m,\n\u001b[1;32m     13\u001b[0m     \u001b[38;5;124m'\u001b[39m\u001b[38;5;124mWhat is your age?\u001b[39m\u001b[38;5;124m'\u001b[39m,\n\u001b[0;32m   (...)\u001b[0m\n\u001b[1;32m     21\u001b[0m     \u001b[38;5;124m'\u001b[39m\u001b[38;5;124mWhy did you like that coffee? (please be specific)\u001b[39m\u001b[38;5;124m'\u001b[39m   \u001b[38;5;66;03m# ← add this\u001b[39;00m\n\u001b[1;32m     22\u001b[0m ]\n\u001b[0;32m---> 23\u001b[0m df_core \u001b[38;5;241m=\u001b[39m \u001b[43mdf\u001b[49m\u001b[43m[\u001b[49m\u001b[43mkeep_cols\u001b[49m\u001b[43m]\u001b[49m\u001b[38;5;241m.\u001b[39mcopy()\n\u001b[1;32m     25\u001b[0m \u001b[38;5;66;03m# 4. Rename to snake_case\u001b[39;00m\n\u001b[1;32m     26\u001b[0m df_core\u001b[38;5;241m.\u001b[39mcolumns \u001b[38;5;241m=\u001b[39m [\n\u001b[1;32m     27\u001b[0m     \u001b[38;5;124m'\u001b[39m\u001b[38;5;124mid\u001b[39m\u001b[38;5;124m'\u001b[39m,\u001b[38;5;124m'\u001b[39m\u001b[38;5;124mage_group\u001b[39m\u001b[38;5;124m'\u001b[39m,\u001b[38;5;124m'\u001b[39m\u001b[38;5;124mgender\u001b[39m\u001b[38;5;124m'\u001b[39m,\u001b[38;5;124m'\u001b[39m\u001b[38;5;124mself_pref_roast\u001b[39m\u001b[38;5;124m'\u001b[39m,\n\u001b[1;32m     28\u001b[0m     \u001b[38;5;124m'\u001b[39m\u001b[38;5;124mA_pref\u001b[39m\u001b[38;5;124m'\u001b[39m,\u001b[38;5;124m'\u001b[39m\u001b[38;5;124mB_pref\u001b[39m\u001b[38;5;124m'\u001b[39m,\u001b[38;5;124m'\u001b[39m\u001b[38;5;124mC_pref\u001b[39m\u001b[38;5;124m'\u001b[39m,\u001b[38;5;124m'\u001b[39m\u001b[38;5;124mD_pref\u001b[39m\u001b[38;5;124m'\u001b[39m,\u001b[38;5;124m'\u001b[39m\u001b[38;5;124mfav_sample\u001b[39m\u001b[38;5;124m'\u001b[39m\n\u001b[1;32m     29\u001b[0m ]\n",
      "File \u001b[0;32m/Library/Frameworks/Python.framework/Versions/3.11/lib/python3.11/site-packages/pandas/core/frame.py:4108\u001b[0m, in \u001b[0;36mDataFrame.__getitem__\u001b[0;34m(self, key)\u001b[0m\n\u001b[1;32m   4106\u001b[0m     \u001b[38;5;28;01mif\u001b[39;00m is_iterator(key):\n\u001b[1;32m   4107\u001b[0m         key \u001b[38;5;241m=\u001b[39m \u001b[38;5;28mlist\u001b[39m(key)\n\u001b[0;32m-> 4108\u001b[0m     indexer \u001b[38;5;241m=\u001b[39m \u001b[38;5;28;43mself\u001b[39;49m\u001b[38;5;241;43m.\u001b[39;49m\u001b[43mcolumns\u001b[49m\u001b[38;5;241;43m.\u001b[39;49m\u001b[43m_get_indexer_strict\u001b[49m\u001b[43m(\u001b[49m\u001b[43mkey\u001b[49m\u001b[43m,\u001b[49m\u001b[43m \u001b[49m\u001b[38;5;124;43m\"\u001b[39;49m\u001b[38;5;124;43mcolumns\u001b[39;49m\u001b[38;5;124;43m\"\u001b[39;49m\u001b[43m)\u001b[49m[\u001b[38;5;241m1\u001b[39m]\n\u001b[1;32m   4110\u001b[0m \u001b[38;5;66;03m# take() does not accept boolean indexers\u001b[39;00m\n\u001b[1;32m   4111\u001b[0m \u001b[38;5;28;01mif\u001b[39;00m \u001b[38;5;28mgetattr\u001b[39m(indexer, \u001b[38;5;124m\"\u001b[39m\u001b[38;5;124mdtype\u001b[39m\u001b[38;5;124m\"\u001b[39m, \u001b[38;5;28;01mNone\u001b[39;00m) \u001b[38;5;241m==\u001b[39m \u001b[38;5;28mbool\u001b[39m:\n",
      "File \u001b[0;32m/Library/Frameworks/Python.framework/Versions/3.11/lib/python3.11/site-packages/pandas/core/indexes/base.py:6200\u001b[0m, in \u001b[0;36mIndex._get_indexer_strict\u001b[0;34m(self, key, axis_name)\u001b[0m\n\u001b[1;32m   6197\u001b[0m \u001b[38;5;28;01melse\u001b[39;00m:\n\u001b[1;32m   6198\u001b[0m     keyarr, indexer, new_indexer \u001b[38;5;241m=\u001b[39m \u001b[38;5;28mself\u001b[39m\u001b[38;5;241m.\u001b[39m_reindex_non_unique(keyarr)\n\u001b[0;32m-> 6200\u001b[0m \u001b[38;5;28;43mself\u001b[39;49m\u001b[38;5;241;43m.\u001b[39;49m\u001b[43m_raise_if_missing\u001b[49m\u001b[43m(\u001b[49m\u001b[43mkeyarr\u001b[49m\u001b[43m,\u001b[49m\u001b[43m \u001b[49m\u001b[43mindexer\u001b[49m\u001b[43m,\u001b[49m\u001b[43m \u001b[49m\u001b[43maxis_name\u001b[49m\u001b[43m)\u001b[49m\n\u001b[1;32m   6202\u001b[0m keyarr \u001b[38;5;241m=\u001b[39m \u001b[38;5;28mself\u001b[39m\u001b[38;5;241m.\u001b[39mtake(indexer)\n\u001b[1;32m   6203\u001b[0m \u001b[38;5;28;01mif\u001b[39;00m \u001b[38;5;28misinstance\u001b[39m(key, Index):\n\u001b[1;32m   6204\u001b[0m     \u001b[38;5;66;03m# GH 42790 - Preserve name from an Index\u001b[39;00m\n",
      "File \u001b[0;32m/Library/Frameworks/Python.framework/Versions/3.11/lib/python3.11/site-packages/pandas/core/indexes/base.py:6249\u001b[0m, in \u001b[0;36mIndex._raise_if_missing\u001b[0;34m(self, key, indexer, axis_name)\u001b[0m\n\u001b[1;32m   6247\u001b[0m \u001b[38;5;28;01mif\u001b[39;00m nmissing:\n\u001b[1;32m   6248\u001b[0m     \u001b[38;5;28;01mif\u001b[39;00m nmissing \u001b[38;5;241m==\u001b[39m \u001b[38;5;28mlen\u001b[39m(indexer):\n\u001b[0;32m-> 6249\u001b[0m         \u001b[38;5;28;01mraise\u001b[39;00m \u001b[38;5;167;01mKeyError\u001b[39;00m(\u001b[38;5;124mf\u001b[39m\u001b[38;5;124m\"\u001b[39m\u001b[38;5;124mNone of [\u001b[39m\u001b[38;5;132;01m{\u001b[39;00mkey\u001b[38;5;132;01m}\u001b[39;00m\u001b[38;5;124m] are in the [\u001b[39m\u001b[38;5;132;01m{\u001b[39;00maxis_name\u001b[38;5;132;01m}\u001b[39;00m\u001b[38;5;124m]\u001b[39m\u001b[38;5;124m\"\u001b[39m)\n\u001b[1;32m   6251\u001b[0m     not_found \u001b[38;5;241m=\u001b[39m \u001b[38;5;28mlist\u001b[39m(ensure_index(key)[missing_mask\u001b[38;5;241m.\u001b[39mnonzero()[\u001b[38;5;241m0\u001b[39m]]\u001b[38;5;241m.\u001b[39munique())\n\u001b[1;32m   6252\u001b[0m     \u001b[38;5;28;01mraise\u001b[39;00m \u001b[38;5;167;01mKeyError\u001b[39;00m(\u001b[38;5;124mf\u001b[39m\u001b[38;5;124m\"\u001b[39m\u001b[38;5;132;01m{\u001b[39;00mnot_found\u001b[38;5;132;01m}\u001b[39;00m\u001b[38;5;124m not in index\u001b[39m\u001b[38;5;124m\"\u001b[39m)\n",
      "\u001b[0;31mKeyError\u001b[0m: \"None of [Index(['Submission ID', 'What is your age?', 'Gender',\\n       'What roast level of coffee do you prefer?',\\n       'Coffee A - Personal Preference', 'Coffee B - Personal Preference',\\n       'Coffee C - Personal Preference', 'Coffee D - Personal Preference',\\n       'Lastly, what was your favorite overall coffee?Why did you like that coffee? (please be specific)'],\\n      dtype='object')] are in the [columns]\""
     ]
    }
   ],
   "source": [
    "import pandas as pd\n",
    "\n",
    "# 1. Load raw data\n",
    "df = pd.read_csv('/Users/dhruvshah/Desktop/Data Science Material/SPRING 2025/CS 133/Final-Project /GACTT_RESULTS_ANONYMIZED_v2.csv')\n",
    "\n",
    "# 2. Quick missingness audit\n",
    "missing_pct = df.isna().mean().sort_values(ascending=False)\n",
    "print(missing_pct.head(10))       # which columns are sparse?\n",
    "\n",
    "# 3. Select only the core columns we care about:\n",
    "keep_cols = [\n",
    "    'Submission ID',\n",
    "    'What is your age?',\n",
    "    'Gender',\n",
    "    'What roast level of coffee do you prefer?',\n",
    "    'Coffee A - Personal Preference',\n",
    "    'Coffee B - Personal Preference',\n",
    "    'Coffee C - Personal Preference',\n",
    "    'Coffee D - Personal Preference',\n",
    "    'Lastly, what was your favorite overall coffee?'\n",
    "    # 'Why did you like that coffee? (please be specific)'   # ← add this\n",
    "]\n",
    "df_core = df[keep_cols].copy()\n",
    "\n",
    "# 4. Rename to snake_case\n",
    "df_core.columns = [\n",
    "    'id','age_group','gender','self_pref_roast',\n",
    "    'A_pref','B_pref','C_pref','D_pref','fav_sample'\n",
    "]\n",
    "\n",
    "# 5. Convert preference scores to numeric\n",
    "for col in ['A_pref','B_pref','C_pref','D_pref']:\n",
    "    df_core[col] = pd.to_numeric(df_core[col], errors='coerce')\n",
    "\n",
    "# 6. Drop rows without a favorite sample or all four NAs\n",
    "df_clean = df_core.dropna(subset=['fav_sample'])\\\n",
    "                  .dropna(how='all', subset=['A_pref','B_pref','C_pref','D_pref'])\n",
    "\n",
    "# 7. Save cleaned CSV\n",
    "df_clean.to_csv('/Users/dhruvshah/Desktop/Data Science Material/SPRING 2025/CS 133/Final-Project /GACTT_RESULTS_ANONYMIZED_v2.csv', index=False)\n",
    "\n",
    "df_clean.head()"
   ]
  },
  {
   "cell_type": "code",
   "execution_count": 3,
   "id": "5c949e88",
   "metadata": {},
   "outputs": [
    {
     "data": {
      "text/plain": [
       "[]"
      ]
     },
     "execution_count": 3,
     "metadata": {},
     "output_type": "execute_result"
    }
   ],
   "source": [
    "raw = pd.read_csv('/Users/dhruvshah/Desktop/Data Science Material/SPRING 2025/CS 133/Final-Project /GACTT_RESULTS_ANONYMIZED_v2.csv')\n",
    "[c for c in raw.columns if 'like' in c.lower()]"
   ]
  },
  {
   "cell_type": "code",
   "execution_count": 4,
   "id": "2514e709",
   "metadata": {},
   "outputs": [],
   "source": [
    "keep_cols = [\n",
    "    'Submission ID',\n",
    "    'What is your age?',\n",
    "    'Gender',\n",
    "    'What roast level of coffee do you prefer?',\n",
    "    'Coffee A - Personal Preference',\n",
    "    'Coffee B - Personal Preference',\n",
    "    'Coffee C - Personal Preference',\n",
    "    'Coffee D - Personal Preference',\n",
    "    'Lastly, what was your favorite overall coffee?',          # ← note the comma\n",
    "    # 'Why did you like that coffee? (please be specific)'      # ← exact header\n",
    "]"
   ]
  },
  {
   "cell_type": "code",
   "execution_count": null,
   "id": "c594f52a",
   "metadata": {},
   "outputs": [],
   "source": []
  }
 ],
 "metadata": {
  "kernelspec": {
   "display_name": "Python 3",
   "language": "python",
   "name": "python3"
  },
  "language_info": {
   "codemirror_mode": {
    "name": "ipython",
    "version": 3
   },
   "file_extension": ".py",
   "mimetype": "text/x-python",
   "name": "python",
   "nbconvert_exporter": "python",
   "pygments_lexer": "ipython3",
   "version": "3.11.1"
  }
 },
 "nbformat": 4,
 "nbformat_minor": 5
}
