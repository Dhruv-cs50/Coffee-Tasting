{
  "cells": [
    {
      "cell_type": "code",
      "source": [
        "import pandas as pd\n",
        "import matplotlib.pyplot as plt\n",
        "import seaborn as sns\n",
        "from scipy.stats import kruskal\n",
        "import numpy as np\n",
        "\n",
        "# Load the uploaded raw CSV file\n",
        "file_path = 'coffee_survey.csv'\n",
        "\n",
        "try:\n",
        "    raw_df = pd.read_csv(file_path)\n",
        "    print(\"Raw data loaded successfully.\")\n",
        "\n",
        "    # --- Data Identification (Corrected based on previous output) ---\n",
        "    spending_col_found = 'total_spend'\n",
        "    value_col_found = 'most_willing' # Using 'most_willing' as proxy for 'perceived value'\n",
        "\n",
        "    # --- Proceed with Analysis ---\n",
        "    if spending_col_found in raw_df.columns and value_col_found in raw_df.columns:\n",
        "        print(f\"\\nUsing columns: Spending='{spending_col_found}', Perceived Value='{value_col_found}'\")\n",
        "\n",
        "        df_q4 = raw_df[[spending_col_found, value_col_found]].copy()\n",
        "        df_q4.rename(columns={\n",
        "            spending_col_found: 'monthly_spending',\n",
        "            value_col_found: 'perceived_value'\n",
        "        }, inplace=True)\n",
        "\n",
        "        # --- Clean 'perceived_value' (i.e., 'most_willing') ---\n",
        "        # Define mapping based on ACTUAL unique values found previously\n",
        "        value_mapping_actual = {\n",
        "            'Less than $2': 1.0, # Estimate for less than 2\n",
        "            '$2-$4': 3.0,\n",
        "            '$4-$6': 5.0,\n",
        "            '$6-$8': 7.0,\n",
        "            '$8-$10': 9.0,\n",
        "            '$10-$15': 12.5,\n",
        "            '$15-$20': 17.5,\n",
        "            'More than $20': 22.0 # Estimate for more than 20\n",
        "        }\n",
        "        print(\"\\nUnique values found in 'perceived_value' (most_willing):\")\n",
        "        print(df_q4['perceived_value'].unique())\n",
        "        df_q4['value_numeric'] = df_q4['perceived_value'].map(value_mapping_actual)\n",
        "        print(f\"Rows with valid numeric value after mapping: {df_q4['value_numeric'].notna().sum()}\")\n",
        "\n",
        "        # --- Clean 'monthly_spending' (i.e., 'total_spend') ---\n",
        "        # Define order based on ACTUAL unique values found previously\n",
        "        spending_order_actual = [\n",
        "            '<$20', '$20-$40', '$40-$60', '$60-$80', '$80-$100', '>$100'\n",
        "        ]\n",
        "        print(\"\\nUnique values found in 'monthly_spending' (total_spend):\")\n",
        "        print(df_q4['monthly_spending'].unique())\n",
        "        df_q4['monthly_spending'] = pd.Categorical(df_q4['monthly_spending'], categories=spending_order_actual, ordered=True)\n",
        "\n",
        "        # Drop rows where either value_numeric or monthly_spending is NaN (or category conversion failed)\n",
        "        original_count = len(df_q4)\n",
        "        df_q4.dropna(subset=['monthly_spending', 'value_numeric'], inplace=True)\n",
        "        print(f\"\\nDropped {original_count - len(df_q4)} rows due to missing/unmappable values.\")\n",
        "        print(f\"Remaining rows for analysis: {len(df_q4)}\")\n",
        "\n",
        "        # --- Analysis ---\n",
        "        if not df_q4.empty and len(df_q4) > 10: # Check if enough data remains\n",
        "            print(\"\\n--- Analysis for Question 4 ---\")\n",
        "            print(\"\\nAverage 'Most Willing to Pay' ($) by Monthly Spending:\")\n",
        "            # Group by the categorical column respecting order\n",
        "            summary_stats = df_q4.groupby('monthly_spending', observed=False)['value_numeric'].agg(['mean', 'median', 'count'])\n",
        "            print(summary_stats)\n",
        "\n",
        "            # Visualization\n",
        "            plt.figure(figsize=(12, 7))\n",
        "            sns.boxplot(data=df_q4, x='monthly_spending', y='value_numeric', order=spending_order_actual) # Use actual order\n",
        "            plt.title('Most Willing to Pay for a Good Cup vs. Monthly Coffee Spending')\n",
        "            plt.xlabel('Monthly Coffee Spending ($)')\n",
        "            plt.ylabel('Most Willing to Pay ($)')\n",
        "            plt.xticks(rotation=30, ha='right')\n",
        "            plt.tight_layout()\n",
        "            plot_filename = '/mnt/data/q4_spending_vs_value_boxplot.png'\n",
        "            plt.savefig(plot_filename)\n",
        "            print(f\"\\nBoxplot saved to {plot_filename}\")\n",
        "            # plt.show()\n",
        "\n",
        "            # Statistical Test (Kruskal-Wallis)\n",
        "            # Prepare groups for the test based on the actual categories present after cleaning\n",
        "            present_categories = df_q4['monthly_spending'].unique()\n",
        "            groups = [df_q4['value_numeric'][df_q4['monthly_spending'] == category] for category in present_categories]\n",
        "\n",
        "            # Ensure there are enough groups and data per group\n",
        "            valid_groups = [g for g in groups if len(g) >= 5] # Use a minimum group size threshold\n",
        "            print(f\"\\nNumber of spending groups with >= 5 data points: {len(valid_groups)}\")\n",
        "\n",
        "            if len(valid_groups) > 1:\n",
        "                try:\n",
        "                    stat, p_value = kruskal(*valid_groups)\n",
        "                    print(f\"\\nKruskal-Wallis Test for difference in 'Most Willing to Pay' across Spending Groups:\")\n",
        "                    print(f\"H-statistic: {stat:.2f}, p-value: {p_value:e}\")\n",
        "                    if p_value < 0.05:\n",
        "                        print(\"Result: There is a statistically significant difference in the median amount participants are willing to pay based on their monthly spending habits.\")\n",
        "                    else:\n",
        "                        print(\"Result: There is no statistically significant difference in the median amount participants are willing to pay based on their monthly spending habits.\")\n",
        "                except ValueError as e:\n",
        "                     print(f\"\\nCould not perform Kruskal-Wallis test: {e}.\")\n",
        "            else:\n",
        "                print(\"\\nNot enough groups with sufficient data (min 5 per group) to perform Kruskal-Wallis test.\")\n",
        "        else:\n",
        "             print(\"\\nInsufficient data after cleaning/filtering to perform meaningful analysis for Question 4.\")\n",
        "\n",
        "    else:\n",
        "        print(\"\\nCould not find both necessary columns ('total_spend', 'most_willing') in the data.\")\n",
        "        print(\"Analysis for Question 4 cannot be performed.\")\n",
        "\n",
        "except FileNotFoundError:\n",
        "    print(f\"Error: The file '{file_path}' was not found.\")\n",
        "    print(\"Analysis for Question 4 cannot be performed.\")\n",
        "except Exception as e:\n",
        "    print(f\"An error occurred during analysis: {e}\")\n",
        "    print(\"Analysis for Question 4 may be incomplete.\")"
      ],
      "metadata": {
        "id": "SSbv_vF-FxhD",
        "outputId": "4cda35ee-89e0-41f7-b79c-1fd863102ff5",
        "colab": {
          "base_uri": "https://localhost:8080/",
          "height": 1000
        }
      },
      "id": "SSbv_vF-FxhD",
      "execution_count": 1,
      "outputs": [
        {
          "output_type": "stream",
          "name": "stdout",
          "text": [
            "Raw data loaded successfully.\n",
            "\n",
            "Using columns: Spending='total_spend', Perceived Value='most_willing'\n",
            "\n",
            "Unique values found in 'perceived_value' (most_willing):\n",
            "[nan '$8-$10' 'More than $20' '$15-$20' '$4-$6' '$6-$8' '$10-$15' '$2-$4'\n",
            " 'Less than $2']\n",
            "Rows with valid numeric value after mapping: 3510\n",
            "\n",
            "Unique values found in 'monthly_spending' (total_spend):\n",
            "[nan '>$100' '$40-$60' '$20-$40' '$60-$80' '<$20' '$80-$100']\n",
            "\n",
            "Dropped 576 rows due to missing/unmappable values.\n",
            "Remaining rows for analysis: 3466\n",
            "\n",
            "--- Analysis for Question 4 ---\n",
            "\n",
            "Average 'Most Willing to Pay' ($) by Monthly Spending:\n",
            "                       mean  median  count\n",
            "monthly_spending                          \n",
            "<$20               9.184211     9.0    418\n",
            "$20-$40           10.637324     9.0   1278\n",
            "$40-$60           12.409923     9.0   1038\n",
            "$60-$80           13.089239    12.5    381\n",
            "$80-$100          13.671171    12.5    222\n",
            ">$100             16.124031    17.5    129\n",
            "Error: The file 'coffee_survey.csv' was not found.\n",
            "Analysis for Question 4 cannot be performed.\n"
          ]
        },
        {
          "output_type": "display_data",
          "data": {
            "text/plain": [
              "<Figure size 1200x700 with 1 Axes>"
            ],
            "image/png": "[encoded data removed]"
          },
          "metadata": {}
        }
      ]
    },
    {
      "cell_type": "code",
      "execution_count": null,
      "id": "676a36f5",
      "metadata": {
        "id": "676a36f5",
        "outputId": "ef20d6f8-2490-4711-ad80-70a1e413bf95"
      },
      "outputs": [
        {
          "name": "stdout",
          "output_type": "stream",
          "text": [
            "Gender × Favorite: chi2=101.4, p=0.000\n",
            "Age × Favorite:    chi2=70.0, p=0.000\n"
          ]
        }
      ],
      "source": [
        "import pandas as pd\n",
        "from scipy.stats import chi2_contingency\n",
        "\n",
        "# Load cleaned data\n",
        "df = pd.read_csv('/Users/dhruvshah/Desktop/Data Science Material/SPRING 2025/CS 133/Final-Project /GACTT_RESULTS_ANONYMIZED_v2.csv')\n",
        "\n",
        "# 1) Chi-square: fav_sample vs. gender\n",
        "ct_gender = pd.crosstab(df['gender'], df['fav_sample'])\n",
        "chi2, p, dof, _ = chi2_contingency(ct_gender)\n",
        "print(f\"Gender × Favorite: chi2={chi2:.1f}, p={p:.3f}\")\n",
        "\n",
        "# 2) Chi-square: fav_sample vs. age_group\n",
        "ct_age = pd.crosstab(df['age_group'], df['fav_sample'])\n",
        "chi2, p, dof, _ = chi2_contingency(ct_age)\n",
        "print(f\"Age × Favorite:    chi2={chi2:.1f}, p={p:.3f}\")"
      ]
    },
    {
      "cell_type": "markdown",
      "id": "8fed9ccf",
      "metadata": {
        "id": "8fed9ccf"
      },
      "source": [
        " Self-Reported vs. Actual Preference Alignment\n"
      ]
    },
    {
      "cell_type": "code",
      "execution_count": null,
      "id": "f1f8aa79",
      "metadata": {
        "id": "f1f8aa79",
        "outputId": "7e339dfa-4575-443d-99ab-028cd82db657"
      },
      "outputs": [
        {
          "name": "stdout",
          "output_type": "stream",
          "text": [
            "Overall agreement: 25.9%\n",
            "age_group\n",
            "18-24 years old    27.1%\n",
            "25-34 years old    25.5%\n",
            "35-44 years old    25.2%\n",
            "45-54 years old    24.6%\n",
            "55-64 years old    29.7%\n",
            "<18 years old      53.3%\n",
            ">65 years old      27.8%\n",
            "Name: roast_agree, dtype: object\n",
            "gender\n",
            "Female                    29.1%\n",
            "Male                      24.7%\n",
            "Non-binary                26.2%\n",
            "Other (please specify)    30.0%\n",
            "Prefer not to say         27.3%\n",
            "Name: roast_agree, dtype: object\n"
          ]
        }
      ],
      "source": [
        "# Map: A=Light, B=Medium, C=Dark, D=Other\n",
        "roast_map = {'Coffee A': 'Light', 'Coffee B': 'Medium',\n",
        "             'Coffee C': 'Dark',  'Coffee D': 'Other'}\n",
        "\n",
        "df['fav_roast'] = df['fav_sample'].map(roast_map)\n",
        "\n",
        "# Agreement flag\n",
        "df['roast_agree'] = df['fav_roast'] == df['self_pref_roast']\n",
        "\n",
        "# Overall agreement rate\n",
        "overall_rate = df['roast_agree'].mean()\n",
        "print(f\"Overall agreement: {overall_rate:.1%}\")\n",
        "\n",
        "# Agreement by age group\n",
        "print(df.groupby('age_group')['roast_agree'].mean().sort_index().apply(lambda x: f\"{x:.1%}\"))\n",
        "\n",
        "# Agreement by gender\n",
        "print(df.groupby('gender')['roast_agree'].mean().sort_index().apply(lambda x: f\"{x:.1%}\"))"
      ]
    },
    {
      "cell_type": "markdown",
      "id": "f6d1d0f3",
      "metadata": {
        "id": "f6d1d0f3"
      },
      "source": [
        "Dive Into Tasting Notes"
      ]
    },
    {
      "cell_type": "code",
      "execution_count": null,
      "id": "cc13e979",
      "metadata": {
        "id": "cc13e979",
        "outputId": "3b6a1d1f-fa73-4c07-e898-21b59907779f"
      },
      "outputs": [
        {
          "name": "stdout",
          "output_type": "stream",
          "text": [
            "self_pref_roast\n",
            "Light      1695\n",
            "Medium     1482\n",
            "Dark        389\n",
            "Nordic       75\n",
            "Blonde       74\n",
            "Italian      22\n",
            "French       21\n",
            "NaN           3\n",
            "Name: count, dtype: int64\n"
          ]
        }
      ],
      "source": [
        "df = pd.read_csv('/Users/dhruvshah/Desktop/Data Science Material/SPRING 2025/CS 133/Final-Project /GACTT_RESULTS_ANONYMIZED_v2.csv')\n",
        "print(df['self_pref_roast'].value_counts(dropna=False))"
      ]
    },
    {
      "cell_type": "code",
      "execution_count": null,
      "id": "346833a4",
      "metadata": {
        "id": "346833a4",
        "outputId": "499e8cc6-d50f-47bc-d4c0-d3cae53e872b"
      },
      "outputs": [
        {
          "name": "stdout",
          "output_type": "stream",
          "text": [
            "self_pref_roast_norm\n",
            "Light     1844\n",
            "Medium    1482\n",
            "Dark       410\n",
            "NaN         25\n",
            "Name: count, dtype: int64\n"
          ]
        }
      ],
      "source": [
        "roast_normalization = {\n",
        "    'Blonde':     'Light',\n",
        "    'Light':      'Light',\n",
        "    'Nordic':     'Light',\n",
        "    'French':     'Dark',\n",
        "    'Dark':       'Dark',\n",
        "    'Medium':     'Medium',\n",
        "    # if there are any other unusual values, map them to 'Other' or NaN\n",
        "}\n",
        "\n",
        "# apply it\n",
        "df['self_pref_roast_norm'] = df['self_pref_roast'].map(roast_normalization)\n",
        "\n",
        "# confirm\n",
        "print(df['self_pref_roast_norm'].value_counts(dropna=False))"
      ]
    },
    {
      "cell_type": "code",
      "execution_count": null,
      "id": "ef839749",
      "metadata": {
        "id": "ef839749",
        "outputId": "cd517213-d99b-4067-ebc9-613843c2b875"
      },
      "outputs": [
        {
          "name": "stdout",
          "output_type": "stream",
          "text": [
            "Overall agreement (normalized): 0.275\n",
            "age_group\n",
            "18-24 years old    27.8%\n",
            "25-34 years old    27.1%\n",
            "35-44 years old    26.9%\n",
            "45-54 years old    26.8%\n",
            "55-64 years old    31.4%\n",
            "<18 years old      53.3%\n",
            ">65 years old      30.0%\n",
            "Name: roast_agree_norm, dtype: object\n",
            "gender\n",
            "Female                    30.1%\n",
            "Male                      26.5%\n",
            "Non-binary                27.2%\n",
            "Other (please specify)    30.0%\n",
            "Prefer not to say         27.3%\n",
            "Name: roast_agree_norm, dtype: object\n"
          ]
        }
      ],
      "source": [
        "# map fav_sample → roast level\n",
        "roast_map = {'Coffee A':'Light','Coffee B':'Medium','Coffee C':'Dark','Coffee D':'Other'}\n",
        "df['fav_roast'] = df['fav_sample'].map(roast_map)\n",
        "\n",
        "# new agreement flag\n",
        "df['roast_agree_norm'] = df['fav_roast'] == df['self_pref_roast_norm']\n",
        "\n",
        "# overall\n",
        "print(\"Overall agreement (normalized):\", df['roast_agree_norm'].mean().round(3))\n",
        "\n",
        "# by age\n",
        "print(df.groupby('age_group')['roast_agree_norm'].mean().apply(lambda x: f\"{x:.1%}\"))\n",
        "\n",
        "# by gender\n",
        "print(df.groupby('gender')['roast_agree_norm'].mean().apply(lambda x: f\"{x:.1%}\"))"
      ]
    },
    {
      "cell_type": "markdown",
      "id": "1f931963",
      "metadata": {
        "id": "1f931963"
      },
      "source": [
        "## 3. Statistical Test Results\n",
        "\n",
        "### 3.1 Chi-Square Tests\n",
        "- **Favorite × Gender**: χ² = 101.4, p < 0.001 → **significant**  \n",
        "- **Favorite × Age Group**: χ² = 70.0, p < 0.001 → **significant**  \n",
        "\n",
        "> _Interpretation:_ Both gender and age group show a statistically significant association with which coffee sample people chose as their favorite.\n",
        "\n",
        "### 3.2 Roast-Preference Alignment (Normalized)\n",
        "- **Overall agreement**: 27.5%  \n",
        "- **By age group**:  \n",
        "  - <18 years old: 53.3%  \n",
        "  - 18–24 years old: 27.8%  \n",
        "  - 25–34 years old: 27.1%  \n",
        "  - 35–44 years old: 26.9%  \n",
        "  - 45–54 years old: 26.8%  \n",
        "  - 55–64 years old: 31.4%  \n",
        "  - >65 years old: 30.0%  \n",
        "- **By gender**:  \n",
        "  - Female: 30.1%  \n",
        "  - Male: 26.5%  \n",
        "  - Non-binary: 27.2%  \n",
        "  - Other (please specify): 30.0%  \n",
        "  - Prefer not to say: 27.3%  \n",
        "\n",
        "> _Interpretation:_ Only about a quarter of participants correctly predicted their true blind-taste winner, indicating a large disconnect between self-reported roast preferences and actual taste-test outcomes."
      ]
    },
    {
      "cell_type": "markdown",
      "id": "96ca90b2",
      "metadata": {
        "id": "96ca90b2"
      },
      "source": [
        "2. Dive into Tasting Notes for Qualitative Insights\n",
        "\n",
        "Let’s see why people were surprised. Assuming you’ve carried over the tasting-note column (e.g. \"Why did you like that coffee? (please be specific)\"), use a simple keyword–frequency approach to surface common themes among the disagree subset:"
      ]
    },
    {
      "cell_type": "code",
      "execution_count": null,
      "id": "80c454e9",
      "metadata": {
        "id": "80c454e9"
      },
      "outputs": [],
      "source": []
    }
  ],
  "metadata": {
    "kernelspec": {
      "display_name": "Python 3",
      "language": "python",
      "name": "python3"
    },
    "language_info": {
      "codemirror_mode": {
        "name": "ipython",
        "version": 3
      },
      "file_extension": ".py",
      "mimetype": "text/x-python",
      "name": "python",
      "nbconvert_exporter": "python",
      "pygments_lexer": "ipython3",
      "version": "3.11.1"
    },
    "colab": {
      "provenance": []
    }
  },
  "nbformat": 4,
  "nbformat_minor": 5
}