{
 "cells": [
  {
   "cell_type": "code",
   "execution_count": 1,
   "id": "676a36f5",
   "metadata": {},
   "outputs": [
    {
     "name": "stdout",
     "output_type": "stream",
     "text": [
      "Gender × Favorite: chi2=101.4, p=0.000\n",
      "Age × Favorite:    chi2=70.0, p=0.000\n"
     ]
    }
   ],
   "source": [
    "import pandas as pd\n",
    "from scipy.stats import chi2_contingency\n",
    "\n",
    "# Load cleaned data\n",
    "df = pd.read_csv('/Users/dhruvshah/Desktop/Data Science Material/SPRING 2025/CS 133/Final-Project /GACTT_RESULTS_ANONYMIZED_v2.csv')\n",
    "\n",
    "# 1) Chi-square: fav_sample vs. gender\n",
    "ct_gender = pd.crosstab(df['gender'], df['fav_sample'])\n",
    "chi2, p, dof, _ = chi2_contingency(ct_gender)\n",
    "print(f\"Gender × Favorite: chi2={chi2:.1f}, p={p:.3f}\")\n",
    "\n",
    "# 2) Chi-square: fav_sample vs. age_group\n",
    "ct_age = pd.crosstab(df['age_group'], df['fav_sample'])\n",
    "chi2, p, dof, _ = chi2_contingency(ct_age)\n",
    "print(f\"Age × Favorite:    chi2={chi2:.1f}, p={p:.3f}\")"
   ]
  },
  {
   "cell_type": "markdown",
   "id": "8fed9ccf",
   "metadata": {},
   "source": [
    " Self-Reported vs. Actual Preference Alignment\n"
   ]
  },
  {
   "cell_type": "code",
   "execution_count": 2,
   "id": "f1f8aa79",
   "metadata": {},
   "outputs": [
    {
     "name": "stdout",
     "output_type": "stream",
     "text": [
      "Overall agreement: 25.9%\n",
      "age_group\n",
      "18-24 years old    27.1%\n",
      "25-34 years old    25.5%\n",
      "35-44 years old    25.2%\n",
      "45-54 years old    24.6%\n",
      "55-64 years old    29.7%\n",
      "<18 years old      53.3%\n",
      ">65 years old      27.8%\n",
      "Name: roast_agree, dtype: object\n",
      "gender\n",
      "Female                    29.1%\n",
      "Male                      24.7%\n",
      "Non-binary                26.2%\n",
      "Other (please specify)    30.0%\n",
      "Prefer not to say         27.3%\n",
      "Name: roast_agree, dtype: object\n"
     ]
    }
   ],
   "source": [
    "# Map: A=Light, B=Medium, C=Dark, D=Other\n",
    "roast_map = {'Coffee A': 'Light', 'Coffee B': 'Medium',\n",
    "             'Coffee C': 'Dark',  'Coffee D': 'Other'}\n",
    "\n",
    "df['fav_roast'] = df['fav_sample'].map(roast_map)\n",
    "\n",
    "# Agreement flag\n",
    "df['roast_agree'] = df['fav_roast'] == df['self_pref_roast']\n",
    "\n",
    "# Overall agreement rate\n",
    "overall_rate = df['roast_agree'].mean()\n",
    "print(f\"Overall agreement: {overall_rate:.1%}\")\n",
    "\n",
    "# Agreement by age group\n",
    "print(df.groupby('age_group')['roast_agree'].mean().sort_index().apply(lambda x: f\"{x:.1%}\"))\n",
    "\n",
    "# Agreement by gender\n",
    "print(df.groupby('gender')['roast_agree'].mean().sort_index().apply(lambda x: f\"{x:.1%}\"))"
   ]
  },
  {
   "cell_type": "markdown",
   "id": "f6d1d0f3",
   "metadata": {},
   "source": [
    "Dive Into Tasting Notes"
   ]
  },
  {
   "cell_type": "code",
   "execution_count": 5,
   "id": "cc13e979",
   "metadata": {},
   "outputs": [
    {
     "name": "stdout",
     "output_type": "stream",
     "text": [
      "self_pref_roast\n",
      "Light      1695\n",
      "Medium     1482\n",
      "Dark        389\n",
      "Nordic       75\n",
      "Blonde       74\n",
      "Italian      22\n",
      "French       21\n",
      "NaN           3\n",
      "Name: count, dtype: int64\n"
     ]
    }
   ],
   "source": [
    "df = pd.read_csv('/Users/dhruvshah/Desktop/Data Science Material/SPRING 2025/CS 133/Final-Project /GACTT_RESULTS_ANONYMIZED_v2.csv')\n",
    "print(df['self_pref_roast'].value_counts(dropna=False))"
   ]
  },
  {
   "cell_type": "code",
   "execution_count": 6,
   "id": "346833a4",
   "metadata": {},
   "outputs": [
    {
     "name": "stdout",
     "output_type": "stream",
     "text": [
      "self_pref_roast_norm\n",
      "Light     1844\n",
      "Medium    1482\n",
      "Dark       410\n",
      "NaN         25\n",
      "Name: count, dtype: int64\n"
     ]
    }
   ],
   "source": [
    "roast_normalization = {\n",
    "    'Blonde':     'Light',\n",
    "    'Light':      'Light',\n",
    "    'Nordic':     'Light',\n",
    "    'French':     'Dark',\n",
    "    'Dark':       'Dark',\n",
    "    'Medium':     'Medium',\n",
    "    # if there are any other unusual values, map them to 'Other' or NaN\n",
    "}\n",
    "\n",
    "# apply it\n",
    "df['self_pref_roast_norm'] = df['self_pref_roast'].map(roast_normalization)\n",
    "\n",
    "# confirm\n",
    "print(df['self_pref_roast_norm'].value_counts(dropna=False))"
   ]
  },
  {
   "cell_type": "code",
   "execution_count": 7,
   "id": "ef839749",
   "metadata": {},
   "outputs": [
    {
     "name": "stdout",
     "output_type": "stream",
     "text": [
      "Overall agreement (normalized): 0.275\n",
      "age_group\n",
      "18-24 years old    27.8%\n",
      "25-34 years old    27.1%\n",
      "35-44 years old    26.9%\n",
      "45-54 years old    26.8%\n",
      "55-64 years old    31.4%\n",
      "<18 years old      53.3%\n",
      ">65 years old      30.0%\n",
      "Name: roast_agree_norm, dtype: object\n",
      "gender\n",
      "Female                    30.1%\n",
      "Male                      26.5%\n",
      "Non-binary                27.2%\n",
      "Other (please specify)    30.0%\n",
      "Prefer not to say         27.3%\n",
      "Name: roast_agree_norm, dtype: object\n"
     ]
    }
   ],
   "source": [
    "# map fav_sample → roast level\n",
    "roast_map = {'Coffee A':'Light','Coffee B':'Medium','Coffee C':'Dark','Coffee D':'Other'}\n",
    "df['fav_roast'] = df['fav_sample'].map(roast_map)\n",
    "\n",
    "# new agreement flag\n",
    "df['roast_agree_norm'] = df['fav_roast'] == df['self_pref_roast_norm']\n",
    "\n",
    "# overall\n",
    "print(\"Overall agreement (normalized):\", df['roast_agree_norm'].mean().round(3))\n",
    "\n",
    "# by age\n",
    "print(df.groupby('age_group')['roast_agree_norm'].mean().apply(lambda x: f\"{x:.1%}\"))\n",
    "\n",
    "# by gender\n",
    "print(df.groupby('gender')['roast_agree_norm'].mean().apply(lambda x: f\"{x:.1%}\"))"
   ]
  },
  {
   "cell_type": "markdown",
   "id": "1f931963",
   "metadata": {},
   "source": [
    "## 3. Statistical Test Results\n",
    "\n",
    "### 3.1 Chi-Square Tests\n",
    "- **Favorite × Gender**: χ² = 101.4, p < 0.001 → **significant**  \n",
    "- **Favorite × Age Group**: χ² = 70.0, p < 0.001 → **significant**  \n",
    "\n",
    "> _Interpretation:_ Both gender and age group show a statistically significant association with which coffee sample people chose as their favorite.\n",
    "\n",
    "### 3.2 Roast-Preference Alignment (Normalized)\n",
    "- **Overall agreement**: 27.5%  \n",
    "- **By age group**:  \n",
    "  - <18 years old: 53.3%  \n",
    "  - 18–24 years old: 27.8%  \n",
    "  - 25–34 years old: 27.1%  \n",
    "  - 35–44 years old: 26.9%  \n",
    "  - 45–54 years old: 26.8%  \n",
    "  - 55–64 years old: 31.4%  \n",
    "  - >65 years old: 30.0%  \n",
    "- **By gender**:  \n",
    "  - Female: 30.1%  \n",
    "  - Male: 26.5%  \n",
    "  - Non-binary: 27.2%  \n",
    "  - Other (please specify): 30.0%  \n",
    "  - Prefer not to say: 27.3%  \n",
    "\n",
    "> _Interpretation:_ Only about a quarter of participants correctly predicted their true blind-taste winner, indicating a large disconnect between self-reported roast preferences and actual taste-test outcomes."
   ]
  },
  {
   "cell_type": "markdown",
   "id": "96ca90b2",
   "metadata": {},
   "source": [
    "2. Dive into Tasting Notes for Qualitative Insights\n",
    "\n",
    "Let’s see why people were surprised. Assuming you’ve carried over the tasting-note column (e.g. \"Why did you like that coffee? (please be specific)\"), use a simple keyword–frequency approach to surface common themes among the disagree subset:"
   ]
  },
  {
   "cell_type": "code",
   "execution_count": 8,
   "id": "a13c51f8",
   "metadata": {},
   "outputs": [
    {
     "ename": "KeyError",
     "evalue": "'roast_agree_norm'",
     "output_type": "error",
     "traceback": [
      "\u001b[0;31m---------------------------------------------------------------------------\u001b[0m",
      "\u001b[0;31mKeyError\u001b[0m                                  Traceback (most recent call last)",
      "File \u001b[0;32m/Library/Frameworks/Python.framework/Versions/3.11/lib/python3.11/site-packages/pandas/core/indexes/base.py:3805\u001b[0m, in \u001b[0;36mIndex.get_loc\u001b[0;34m(self, key)\u001b[0m\n\u001b[1;32m   3804\u001b[0m \u001b[38;5;28;01mtry\u001b[39;00m:\n\u001b[0;32m-> 3805\u001b[0m     \u001b[38;5;28;01mreturn\u001b[39;00m \u001b[38;5;28;43mself\u001b[39;49m\u001b[38;5;241;43m.\u001b[39;49m\u001b[43m_engine\u001b[49m\u001b[38;5;241;43m.\u001b[39;49m\u001b[43mget_loc\u001b[49m\u001b[43m(\u001b[49m\u001b[43mcasted_key\u001b[49m\u001b[43m)\u001b[49m\n\u001b[1;32m   3806\u001b[0m \u001b[38;5;28;01mexcept\u001b[39;00m \u001b[38;5;167;01mKeyError\u001b[39;00m \u001b[38;5;28;01mas\u001b[39;00m err:\n",
      "File \u001b[0;32mindex.pyx:167\u001b[0m, in \u001b[0;36mpandas._libs.index.IndexEngine.get_loc\u001b[0;34m()\u001b[0m\n",
      "File \u001b[0;32mindex.pyx:196\u001b[0m, in \u001b[0;36mpandas._libs.index.IndexEngine.get_loc\u001b[0;34m()\u001b[0m\n",
      "File \u001b[0;32mpandas/_libs/hashtable_class_helper.pxi:7081\u001b[0m, in \u001b[0;36mpandas._libs.hashtable.PyObjectHashTable.get_item\u001b[0;34m()\u001b[0m\n",
      "File \u001b[0;32mpandas/_libs/hashtable_class_helper.pxi:7089\u001b[0m, in \u001b[0;36mpandas._libs.hashtable.PyObjectHashTable.get_item\u001b[0;34m()\u001b[0m\n",
      "\u001b[0;31mKeyError\u001b[0m: 'roast_agree_norm'",
      "\nThe above exception was the direct cause of the following exception:\n",
      "\u001b[0;31mKeyError\u001b[0m                                  Traceback (most recent call last)",
      "Cell \u001b[0;32mIn[8], line 10\u001b[0m\n\u001b[1;32m      6\u001b[0m df \u001b[38;5;241m=\u001b[39m pd\u001b[38;5;241m.\u001b[39mread_csv(\u001b[38;5;124m'\u001b[39m\u001b[38;5;124m/Users/dhruvshah/Desktop/Data Science Material/SPRING 2025/CS 133/Final-Project /GACTT_RESULTS_ANONYMIZED_v2.csv\u001b[39m\u001b[38;5;124m'\u001b[39m)\n\u001b[1;32m      9\u001b[0m \u001b[38;5;66;03m# Filter those whose normalized roast doesn’t match\u001b[39;00m\n\u001b[0;32m---> 10\u001b[0m disagree \u001b[38;5;241m=\u001b[39m df[\u001b[43mdf\u001b[49m\u001b[43m[\u001b[49m\u001b[38;5;124;43m'\u001b[39;49m\u001b[38;5;124;43mroast_agree_norm\u001b[39;49m\u001b[38;5;124;43m'\u001b[39;49m\u001b[43m]\u001b[49m\u001b[38;5;241m==\u001b[39m\u001b[38;5;28;01mFalse\u001b[39;00m]\n\u001b[1;32m     12\u001b[0m \u001b[38;5;66;03m# Combine all notes into one big string\u001b[39;00m\n\u001b[1;32m     13\u001b[0m all_notes \u001b[38;5;241m=\u001b[39m \u001b[38;5;124m\"\u001b[39m\u001b[38;5;124m \u001b[39m\u001b[38;5;124m\"\u001b[39m\u001b[38;5;241m.\u001b[39mjoin(disagree[\u001b[38;5;124m'\u001b[39m\u001b[38;5;124mWhy did you like that coffee? (please be specific)\u001b[39m\u001b[38;5;124m'\u001b[39m]\u001b[38;5;241m.\u001b[39mdropna()\u001b[38;5;241m.\u001b[39mtolist())\u001b[38;5;241m.\u001b[39mlower()\n",
      "File \u001b[0;32m/Library/Frameworks/Python.framework/Versions/3.11/lib/python3.11/site-packages/pandas/core/frame.py:4102\u001b[0m, in \u001b[0;36mDataFrame.__getitem__\u001b[0;34m(self, key)\u001b[0m\n\u001b[1;32m   4100\u001b[0m \u001b[38;5;28;01mif\u001b[39;00m \u001b[38;5;28mself\u001b[39m\u001b[38;5;241m.\u001b[39mcolumns\u001b[38;5;241m.\u001b[39mnlevels \u001b[38;5;241m>\u001b[39m \u001b[38;5;241m1\u001b[39m:\n\u001b[1;32m   4101\u001b[0m     \u001b[38;5;28;01mreturn\u001b[39;00m \u001b[38;5;28mself\u001b[39m\u001b[38;5;241m.\u001b[39m_getitem_multilevel(key)\n\u001b[0;32m-> 4102\u001b[0m indexer \u001b[38;5;241m=\u001b[39m \u001b[38;5;28;43mself\u001b[39;49m\u001b[38;5;241;43m.\u001b[39;49m\u001b[43mcolumns\u001b[49m\u001b[38;5;241;43m.\u001b[39;49m\u001b[43mget_loc\u001b[49m\u001b[43m(\u001b[49m\u001b[43mkey\u001b[49m\u001b[43m)\u001b[49m\n\u001b[1;32m   4103\u001b[0m \u001b[38;5;28;01mif\u001b[39;00m is_integer(indexer):\n\u001b[1;32m   4104\u001b[0m     indexer \u001b[38;5;241m=\u001b[39m [indexer]\n",
      "File \u001b[0;32m/Library/Frameworks/Python.framework/Versions/3.11/lib/python3.11/site-packages/pandas/core/indexes/base.py:3812\u001b[0m, in \u001b[0;36mIndex.get_loc\u001b[0;34m(self, key)\u001b[0m\n\u001b[1;32m   3807\u001b[0m     \u001b[38;5;28;01mif\u001b[39;00m \u001b[38;5;28misinstance\u001b[39m(casted_key, \u001b[38;5;28mslice\u001b[39m) \u001b[38;5;129;01mor\u001b[39;00m (\n\u001b[1;32m   3808\u001b[0m         \u001b[38;5;28misinstance\u001b[39m(casted_key, abc\u001b[38;5;241m.\u001b[39mIterable)\n\u001b[1;32m   3809\u001b[0m         \u001b[38;5;129;01mand\u001b[39;00m \u001b[38;5;28many\u001b[39m(\u001b[38;5;28misinstance\u001b[39m(x, \u001b[38;5;28mslice\u001b[39m) \u001b[38;5;28;01mfor\u001b[39;00m x \u001b[38;5;129;01min\u001b[39;00m casted_key)\n\u001b[1;32m   3810\u001b[0m     ):\n\u001b[1;32m   3811\u001b[0m         \u001b[38;5;28;01mraise\u001b[39;00m InvalidIndexError(key)\n\u001b[0;32m-> 3812\u001b[0m     \u001b[38;5;28;01mraise\u001b[39;00m \u001b[38;5;167;01mKeyError\u001b[39;00m(key) \u001b[38;5;28;01mfrom\u001b[39;00m \u001b[38;5;21;01merr\u001b[39;00m\n\u001b[1;32m   3813\u001b[0m \u001b[38;5;28;01mexcept\u001b[39;00m \u001b[38;5;167;01mTypeError\u001b[39;00m:\n\u001b[1;32m   3814\u001b[0m     \u001b[38;5;66;03m# If we have a listlike key, _check_indexing_error will raise\u001b[39;00m\n\u001b[1;32m   3815\u001b[0m     \u001b[38;5;66;03m#  InvalidIndexError. Otherwise we fall through and re-raise\u001b[39;00m\n\u001b[1;32m   3816\u001b[0m     \u001b[38;5;66;03m#  the TypeError.\u001b[39;00m\n\u001b[1;32m   3817\u001b[0m     \u001b[38;5;28mself\u001b[39m\u001b[38;5;241m.\u001b[39m_check_indexing_error(key)\n",
      "\u001b[0;31mKeyError\u001b[0m: 'roast_agree_norm'"
     ]
    }
   ],
   "source": [
    "import pandas as pd\n",
    "from collections import Counter\n",
    "import re\n",
    "\n",
    "# Load data (with tasting_notes column)\n",
    "df = pd.read_csv('/Users/dhruvshah/Desktop/Data Science Material/SPRING 2025/CS 133/Final-Project /GACTT_RESULTS_ANONYMIZED_v2.csv')\n",
    "\n",
    "\n",
    "# Filter those whose normalized roast doesn’t match\n",
    "disagree = df[df['roast_agree_norm']==False]\n",
    "\n",
    "# Combine all notes into one big string\n",
    "all_notes = \" \".join(disagree['Why did you like that coffee? (please be specific)'].dropna().tolist()).lower()\n",
    "\n",
    "# Simple word tokenization & cleanup\n",
    "words = re.findall(r'\\b[a-z]{4,}\\b', all_notes)  \n",
    "# Count top 20 words\n",
    "top20 = Counter(words).most_common(20)\n",
    "print(top20)"
   ]
  },
  {
   "cell_type": "code",
   "execution_count": 9,
   "id": "9df7250d",
   "metadata": {},
   "outputs": [
    {
     "ename": "KeyError",
     "evalue": "'roast_agree_norm'",
     "output_type": "error",
     "traceback": [
      "\u001b[0;31m---------------------------------------------------------------------------\u001b[0m",
      "\u001b[0;31mKeyError\u001b[0m                                  Traceback (most recent call last)",
      "File \u001b[0;32m/Library/Frameworks/Python.framework/Versions/3.11/lib/python3.11/site-packages/pandas/core/indexes/base.py:3805\u001b[0m, in \u001b[0;36mIndex.get_loc\u001b[0;34m(self, key)\u001b[0m\n\u001b[1;32m   3804\u001b[0m \u001b[38;5;28;01mtry\u001b[39;00m:\n\u001b[0;32m-> 3805\u001b[0m     \u001b[38;5;28;01mreturn\u001b[39;00m \u001b[38;5;28;43mself\u001b[39;49m\u001b[38;5;241;43m.\u001b[39;49m\u001b[43m_engine\u001b[49m\u001b[38;5;241;43m.\u001b[39;49m\u001b[43mget_loc\u001b[49m\u001b[43m(\u001b[49m\u001b[43mcasted_key\u001b[49m\u001b[43m)\u001b[49m\n\u001b[1;32m   3806\u001b[0m \u001b[38;5;28;01mexcept\u001b[39;00m \u001b[38;5;167;01mKeyError\u001b[39;00m \u001b[38;5;28;01mas\u001b[39;00m err:\n",
      "File \u001b[0;32mindex.pyx:167\u001b[0m, in \u001b[0;36mpandas._libs.index.IndexEngine.get_loc\u001b[0;34m()\u001b[0m\n",
      "File \u001b[0;32mindex.pyx:196\u001b[0m, in \u001b[0;36mpandas._libs.index.IndexEngine.get_loc\u001b[0;34m()\u001b[0m\n",
      "File \u001b[0;32mpandas/_libs/hashtable_class_helper.pxi:7081\u001b[0m, in \u001b[0;36mpandas._libs.hashtable.PyObjectHashTable.get_item\u001b[0;34m()\u001b[0m\n",
      "File \u001b[0;32mpandas/_libs/hashtable_class_helper.pxi:7089\u001b[0m, in \u001b[0;36mpandas._libs.hashtable.PyObjectHashTable.get_item\u001b[0;34m()\u001b[0m\n",
      "\u001b[0;31mKeyError\u001b[0m: 'roast_agree_norm'",
      "\nThe above exception was the direct cause of the following exception:\n",
      "\u001b[0;31mKeyError\u001b[0m                                  Traceback (most recent call last)",
      "Cell \u001b[0;32mIn[9], line 1\u001b[0m\n\u001b[0;32m----> 1\u001b[0m disagree \u001b[38;5;241m=\u001b[39m df[\u001b[43mdf\u001b[49m\u001b[43m[\u001b[49m\u001b[38;5;124;43m'\u001b[39;49m\u001b[38;5;124;43mroast_agree_norm\u001b[39;49m\u001b[38;5;124;43m'\u001b[39;49m\u001b[43m]\u001b[49m \u001b[38;5;241m==\u001b[39m \u001b[38;5;28;01mFalse\u001b[39;00m]\n",
      "File \u001b[0;32m/Library/Frameworks/Python.framework/Versions/3.11/lib/python3.11/site-packages/pandas/core/frame.py:4102\u001b[0m, in \u001b[0;36mDataFrame.__getitem__\u001b[0;34m(self, key)\u001b[0m\n\u001b[1;32m   4100\u001b[0m \u001b[38;5;28;01mif\u001b[39;00m \u001b[38;5;28mself\u001b[39m\u001b[38;5;241m.\u001b[39mcolumns\u001b[38;5;241m.\u001b[39mnlevels \u001b[38;5;241m>\u001b[39m \u001b[38;5;241m1\u001b[39m:\n\u001b[1;32m   4101\u001b[0m     \u001b[38;5;28;01mreturn\u001b[39;00m \u001b[38;5;28mself\u001b[39m\u001b[38;5;241m.\u001b[39m_getitem_multilevel(key)\n\u001b[0;32m-> 4102\u001b[0m indexer \u001b[38;5;241m=\u001b[39m \u001b[38;5;28;43mself\u001b[39;49m\u001b[38;5;241;43m.\u001b[39;49m\u001b[43mcolumns\u001b[49m\u001b[38;5;241;43m.\u001b[39;49m\u001b[43mget_loc\u001b[49m\u001b[43m(\u001b[49m\u001b[43mkey\u001b[49m\u001b[43m)\u001b[49m\n\u001b[1;32m   4103\u001b[0m \u001b[38;5;28;01mif\u001b[39;00m is_integer(indexer):\n\u001b[1;32m   4104\u001b[0m     indexer \u001b[38;5;241m=\u001b[39m [indexer]\n",
      "File \u001b[0;32m/Library/Frameworks/Python.framework/Versions/3.11/lib/python3.11/site-packages/pandas/core/indexes/base.py:3812\u001b[0m, in \u001b[0;36mIndex.get_loc\u001b[0;34m(self, key)\u001b[0m\n\u001b[1;32m   3807\u001b[0m     \u001b[38;5;28;01mif\u001b[39;00m \u001b[38;5;28misinstance\u001b[39m(casted_key, \u001b[38;5;28mslice\u001b[39m) \u001b[38;5;129;01mor\u001b[39;00m (\n\u001b[1;32m   3808\u001b[0m         \u001b[38;5;28misinstance\u001b[39m(casted_key, abc\u001b[38;5;241m.\u001b[39mIterable)\n\u001b[1;32m   3809\u001b[0m         \u001b[38;5;129;01mand\u001b[39;00m \u001b[38;5;28many\u001b[39m(\u001b[38;5;28misinstance\u001b[39m(x, \u001b[38;5;28mslice\u001b[39m) \u001b[38;5;28;01mfor\u001b[39;00m x \u001b[38;5;129;01min\u001b[39;00m casted_key)\n\u001b[1;32m   3810\u001b[0m     ):\n\u001b[1;32m   3811\u001b[0m         \u001b[38;5;28;01mraise\u001b[39;00m InvalidIndexError(key)\n\u001b[0;32m-> 3812\u001b[0m     \u001b[38;5;28;01mraise\u001b[39;00m \u001b[38;5;167;01mKeyError\u001b[39;00m(key) \u001b[38;5;28;01mfrom\u001b[39;00m \u001b[38;5;21;01merr\u001b[39;00m\n\u001b[1;32m   3813\u001b[0m \u001b[38;5;28;01mexcept\u001b[39;00m \u001b[38;5;167;01mTypeError\u001b[39;00m:\n\u001b[1;32m   3814\u001b[0m     \u001b[38;5;66;03m# If we have a listlike key, _check_indexing_error will raise\u001b[39;00m\n\u001b[1;32m   3815\u001b[0m     \u001b[38;5;66;03m#  InvalidIndexError. Otherwise we fall through and re-raise\u001b[39;00m\n\u001b[1;32m   3816\u001b[0m     \u001b[38;5;66;03m#  the TypeError.\u001b[39;00m\n\u001b[1;32m   3817\u001b[0m     \u001b[38;5;28mself\u001b[39m\u001b[38;5;241m.\u001b[39m_check_indexing_error(key)\n",
      "\u001b[0;31mKeyError\u001b[0m: 'roast_agree_norm'"
     ]
    }
   ],
   "source": [
    "disagree = df[df['roast_agree_norm'] == False]"
   ]
  },
  {
   "cell_type": "code",
   "execution_count": null,
   "id": "80c454e9",
   "metadata": {},
   "outputs": [],
   "source": []
  }
 ],
 "metadata": {
  "kernelspec": {
   "display_name": "Python 3",
   "language": "python",
   "name": "python3"
  },
  "language_info": {
   "codemirror_mode": {
    "name": "ipython",
    "version": 3
   },
   "file_extension": ".py",
   "mimetype": "text/x-python",
   "name": "python",
   "nbconvert_exporter": "python",
   "pygments_lexer": "ipython3",
   "version": "3.11.1"
  }
 },
 "nbformat": 4,
 "nbformat_minor": 5
}
